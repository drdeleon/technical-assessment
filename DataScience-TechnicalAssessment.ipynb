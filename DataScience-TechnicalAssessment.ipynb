{
 "cells": [
  {
   "cell_type": "code",
   "execution_count": 75,
   "id": "25017e37-e546-4e4c-b279-8d8718c3f37b",
   "metadata": {},
   "outputs": [],
   "source": [
    "import tensorflow as tf\n",
    "import numpy as np\n",
    "import matplotlib.pylab as plt\n",
    "from sklearn.metrics import classification_report"
   ]
  },
  {
   "cell_type": "markdown",
   "id": "91fa19c7-28da-4318-b5bb-23ffdd21cf54",
   "metadata": {},
   "source": [
    "# Cartful Solutions - Technical test - Data Science"
   ]
  },
  {
   "cell_type": "markdown",
   "id": "3b86dad8-052e-4fe7-b209-fb843dd581d2",
   "metadata": {},
   "source": [
    "### Important\n",
    "\n",
    "1. write the code for every answer, store the answers as variables and print the variable in the notebook. The process to answer each task, should be in the notebook.\n",
    "2. Answer "
   ]
  },
  {
   "cell_type": "markdown",
   "id": "3cd9dc86-4330-410e-b17f-3e3e4f3d3826",
   "metadata": {},
   "source": [
    "## 0. Dataset load and context comprehension"
   ]
  },
  {
   "cell_type": "markdown",
   "id": "98acff52-4674-4733-947b-064abb9007c9",
   "metadata": {},
   "source": [
    "### Tasks\n",
    "* Split dataset into train and test for independent and dependent variables\n",
    "* Convert independent variables for train and test sets into float numbers\n",
    "* What is the range of values for the independent variables\n",
    "* Considering dataset context, why are the independent variables within that range, what do values represent?\n",
    "* Convert the independent variable values within the range [0,1]\n",
    "* What is the range of values of the dependent variables?\n",
    "* Considering dataset context, why are the dependent variables within that range, what do values represent?\n",
    "* Based on the data, what is the dimension of the input vectors\n",
    "* Choose a random vector from the test set, the element is flattenized, reshape it into the original shape with 1 channel following the dimension height x width x channel\n",
    "* Visually display the 2D vector using matplotlib imshow module. What value is displayed?\n",
    "* Based on independent variable dimension, how many color channels does the dataset use?"
   ]
  },
  {
   "cell_type": "code",
   "execution_count": 30,
   "id": "721216f2-b978-4e5e-91f1-40447303bd16",
   "metadata": {},
   "outputs": [],
   "source": [
    "dataset = tf.keras.datasets.mnist"
   ]
  },
  {
   "cell_type": "code",
   "execution_count": 31,
   "id": "d1d15b4e-417d-47c3-a781-7efae4124140",
   "metadata": {},
   "outputs": [],
   "source": [
    "# Note: The data is being loaded, following the structure ((train), (test)) sets\n",
    "data = dataset.load_data()"
   ]
  },
  {
   "cell_type": "code",
   "execution_count": 32,
   "id": "24b386fa-7e4e-4faf-b2e4-777c5481d36b",
   "metadata": {},
   "outputs": [],
   "source": [
    "# Load the data into training and test set\n",
    "(x_train, y_train), (x_test, y_test) = data"
   ]
  },
  {
   "cell_type": "code",
   "execution_count": 33,
   "id": "77dc81a2-3388-4573-833a-cbd5444167ee",
   "metadata": {},
   "outputs": [
    {
     "name": "stdout",
     "output_type": "stream",
     "text": [
      "uint8\n",
      "(60000, 28, 28)\n"
     ]
    },
    {
     "data": {
      "text/plain": [
       "array([  0,   1,   2,   3,   4,   5,   6,   7,   8,   9,  10,  11,  12,\n",
       "        13,  14,  15,  16,  17,  18,  19,  20,  21,  22,  23,  24,  25,\n",
       "        26,  27,  28,  29,  30,  31,  32,  33,  34,  35,  36,  37,  38,\n",
       "        39,  40,  41,  42,  43,  44,  45,  46,  47,  48,  49,  50,  51,\n",
       "        52,  53,  54,  55,  56,  57,  58,  59,  60,  61,  62,  63,  64,\n",
       "        65,  66,  67,  68,  69,  70,  71,  72,  73,  74,  75,  76,  77,\n",
       "        78,  79,  80,  81,  82,  83,  84,  85,  86,  87,  88,  89,  90,\n",
       "        91,  92,  93,  94,  95,  96,  97,  98,  99, 100, 101, 102, 103,\n",
       "       104, 105, 106, 107, 108, 109, 110, 111, 112, 113, 114, 115, 116,\n",
       "       117, 118, 119, 120, 121, 122, 123, 124, 125, 126, 127, 128, 129,\n",
       "       130, 131, 132, 133, 134, 135, 136, 137, 138, 139, 140, 141, 142,\n",
       "       143, 144, 145, 146, 147, 148, 149, 150, 151, 152, 153, 154, 155,\n",
       "       156, 157, 158, 159, 160, 161, 162, 163, 164, 165, 166, 167, 168,\n",
       "       169, 170, 171, 172, 173, 174, 175, 176, 177, 178, 179, 180, 181,\n",
       "       182, 183, 184, 185, 186, 187, 188, 189, 190, 191, 192, 193, 194,\n",
       "       195, 196, 197, 198, 199, 200, 201, 202, 203, 204, 205, 206, 207,\n",
       "       208, 209, 210, 211, 212, 213, 214, 215, 216, 217, 218, 219, 220,\n",
       "       221, 222, 223, 224, 225, 226, 227, 228, 229, 230, 231, 232, 233,\n",
       "       234, 235, 236, 237, 238, 239, 240, 241, 242, 243, 244, 245, 246,\n",
       "       247, 248, 249, 250, 251, 252, 253, 254, 255], dtype=uint8)"
      ]
     },
     "execution_count": 33,
     "metadata": {},
     "output_type": "execute_result"
    }
   ],
   "source": [
    "# What is the range of values for the independent variables\n",
    "print(x_train.dtype)\n",
    "print(x_train.shape)\n",
    "np.unique(x_train)"
   ]
  },
  {
   "attachments": {},
   "cell_type": "markdown",
   "id": "da7091aa",
   "metadata": {},
   "source": [
    "By observing the data and researching a bit about the dataset we know that the range of independent variables goes from 0-255. The dataset contains 60k 28x28 grayscale images of numbers."
   ]
  },
  {
   "cell_type": "code",
   "execution_count": 34,
   "id": "b0fb7859-429e-4716-b1d0-6ebae32a1935",
   "metadata": {},
   "outputs": [],
   "source": [
    "# Considering dataset context, why are the independent variables within that range, what do values represent?"
   ]
  },
  {
   "cell_type": "code",
   "execution_count": 35,
   "id": "f767d0dd",
   "metadata": {},
   "outputs": [
    {
     "data": {
      "image/png": "[encoded data removed]",
      "text/plain": [
       "<Figure size 640x480 with 1 Axes>"
      ]
     },
     "metadata": {},
     "output_type": "display_data"
    }
   ],
   "source": [
    "fig = plt.figure\n",
    "plt.imshow(x_train[0], cmap='gray')\n",
    "plt.show()"
   ]
  },
  {
   "attachments": {},
   "cell_type": "markdown",
   "id": "dfe1bdca",
   "metadata": {},
   "source": [
    "The values represent a pixel in grayscale of number images."
   ]
  },
  {
   "cell_type": "code",
   "execution_count": 36,
   "id": "f2351fac-280c-42f2-b2cb-df61ce921266",
   "metadata": {},
   "outputs": [],
   "source": [
    "# What is the range of values of the dependent variables?"
   ]
  },
  {
   "cell_type": "code",
   "execution_count": 95,
   "id": "84a82b62",
   "metadata": {},
   "outputs": [
    {
     "data": {
      "text/plain": [
       "array([0, 1, 2, 3, 4, 5, 6, 7, 8, 9], dtype=uint8)"
      ]
     },
     "execution_count": 95,
     "metadata": {},
     "output_type": "execute_result"
    }
   ],
   "source": [
    "np.unique(y_train)"
   ]
  },
  {
   "cell_type": "code",
   "execution_count": 72,
   "id": "e5c37b52",
   "metadata": {},
   "outputs": [
    {
     "data": {
      "text/plain": [
       "(array([5923., 6742., 5958., 6131., 5842., 5421., 5918., 6265., 5851.,\n",
       "        5949.]),\n",
       " array([0. , 0.9, 1.8, 2.7, 3.6, 4.5, 5.4, 6.3, 7.2, 8.1, 9. ]),\n",
       " <BarContainer object of 10 artists>)"
      ]
     },
     "execution_count": 72,
     "metadata": {},
     "output_type": "execute_result"
    },
    {
     "data": {
      "image/png": "[encoded data removed]",
      "text/plain": [
       "<Figure size 640x480 with 1 Axes>"
      ]
     },
     "metadata": {},
     "output_type": "display_data"
    }
   ],
   "source": [
    "plt.hist(y_train)"
   ]
  },
  {
   "attachments": {},
   "cell_type": "markdown",
   "id": "2b4f97c7",
   "metadata": {},
   "source": [
    "The range of values of dependent variables is from 0-9."
   ]
  },
  {
   "cell_type": "code",
   "execution_count": 37,
   "id": "d6f395af-719e-4c0c-b7d8-9a9a1fb9ca76",
   "metadata": {},
   "outputs": [],
   "source": [
    "# Considering dataset context, why are the dependent variables within that range, what do values represent?"
   ]
  },
  {
   "attachments": {},
   "cell_type": "markdown",
   "id": "374ae928",
   "metadata": {},
   "source": [
    "The values represent the number shown in the image."
   ]
  },
  {
   "cell_type": "code",
   "execution_count": 38,
   "id": "a3db183e-193b-4fb1-b322-e4eef22c18af",
   "metadata": {},
   "outputs": [],
   "source": [
    "# Convert independent variables for train and test sets into float numbers"
   ]
  },
  {
   "cell_type": "code",
   "execution_count": 39,
   "id": "3db72052",
   "metadata": {},
   "outputs": [
    {
     "name": "stdout",
     "output_type": "stream",
     "text": [
      "float64\n",
      "float64\n"
     ]
    }
   ],
   "source": [
    "x_train = x_train.astype(float)\n",
    "x_test = x_test.astype(float)\n",
    "\n",
    "print(x_train.dtype)\n",
    "print(x_test.dtype)"
   ]
  },
  {
   "cell_type": "code",
   "execution_count": 40,
   "id": "36a05c03-9fc9-44d5-92bd-7f979b4d0b7a",
   "metadata": {},
   "outputs": [],
   "source": [
    "# Convert input variables within range [0,1]"
   ]
  },
  {
   "cell_type": "code",
   "execution_count": 41,
   "id": "fd3d8c53",
   "metadata": {},
   "outputs": [],
   "source": [
    "x_train = x_train / 255\n",
    "x_train = x_train / 255"
   ]
  },
  {
   "cell_type": "code",
   "execution_count": 42,
   "id": "9fd3e32f-8555-495c-91b6-989e7c6dd375",
   "metadata": {},
   "outputs": [],
   "source": [
    "# Based on the data, what is the dimension of the input vectors?"
   ]
  },
  {
   "cell_type": "code",
   "execution_count": 43,
   "id": "bac56d73",
   "metadata": {},
   "outputs": [
    {
     "data": {
      "text/plain": [
       "(60000, 28, 28)"
      ]
     },
     "execution_count": 43,
     "metadata": {},
     "output_type": "execute_result"
    }
   ],
   "source": [
    "x_train.shape"
   ]
  },
  {
   "attachments": {},
   "cell_type": "markdown",
   "id": "8e09b5c3",
   "metadata": {},
   "source": [
    "There are 60,000 vectors of dimesions 28x28"
   ]
  },
  {
   "cell_type": "code",
   "execution_count": 44,
   "id": "c7788499-b7e3-4cdb-9388-893401cf2539",
   "metadata": {},
   "outputs": [],
   "source": [
    "# Choose a random vector from the test set.flatten()\n",
    "# Flattenize the vector using vector.flatten(), what is this vector shape?\n",
    "# Reshape it into the original shape with 1 color channel following the dimension height x width x channel"
   ]
  },
  {
   "cell_type": "code",
   "execution_count": 45,
   "id": "f7e35140",
   "metadata": {},
   "outputs": [
    {
     "data": {
      "text/plain": [
       "(28, 28, 1)"
      ]
     },
     "execution_count": 45,
     "metadata": {},
     "output_type": "execute_result"
    }
   ],
   "source": [
    "vector = x_train[0].flatten()\n",
    "print(vector.shape)\n",
    "\n",
    "vector = vector.reshape(28,28,1)\n",
    "vector.shape"
   ]
  },
  {
   "cell_type": "code",
   "execution_count": 46,
   "id": "555638fe-b5ea-4593-a3b7-7644bce9671c",
   "metadata": {},
   "outputs": [],
   "source": [
    "# Visually display the 2D vector using matplotlib imshow module. What value is displayed?"
   ]
  },
  {
   "cell_type": "code",
   "execution_count": 47,
   "id": "8d6b2ef3",
   "metadata": {},
   "outputs": [
    {
     "data": {
      "text/plain": [
       "<matplotlib.image.AxesImage at 0x2d1e99ae0>"
      ]
     },
     "execution_count": 47,
     "metadata": {},
     "output_type": "execute_result"
    },
    {
     "data": {
      "image/png": "[encoded data removed]",
      "text/plain": [
       "<Figure size 640x480 with 1 Axes>"
      ]
     },
     "metadata": {},
     "output_type": "display_data"
    }
   ],
   "source": [
    "plt.imshow(vector, cmap='gray')"
   ]
  },
  {
   "cell_type": "code",
   "execution_count": 48,
   "id": "3e8293d9-3c69-4240-ba3f-019a65e19a8c",
   "metadata": {},
   "outputs": [],
   "source": [
    "# Based on independent variable dimension, how many color channels does the dataset use?"
   ]
  },
  {
   "attachments": {},
   "cell_type": "markdown",
   "id": "3d5e36ac",
   "metadata": {},
   "source": [
    "It uses a single color channel. It represents pixels only on a grayscale."
   ]
  },
  {
   "cell_type": "code",
   "execution_count": 49,
   "id": "3dee29ea-9cee-4ad6-826c-23fa56973aa6",
   "metadata": {},
   "outputs": [],
   "source": [
    "# Please make sure that all tasks have been answered."
   ]
  },
  {
   "cell_type": "markdown",
   "id": "80f0e429-b2c0-4c8e-bcdb-151ddba191fb",
   "metadata": {},
   "source": [
    "## 1. Tensorflow implementation\n",
    "\n",
    "Using the code below, answer and implement the solution to each question."
   ]
  },
  {
   "cell_type": "code",
   "execution_count": 50,
   "id": "a8560fd1",
   "metadata": {},
   "outputs": [
    {
     "name": "stdout",
     "output_type": "stream",
     "text": [
      "(28, 28)\n",
      "10\n",
      "784\n"
     ]
    }
   ],
   "source": [
    "IN_SHAPE = x_train[0].shape\n",
    "print(IN_SHAPE)\n",
    "\n",
    "OUT_SHAPE = np.unique(y_test).size\n",
    "print(OUT_SHAPE)\n",
    "\n",
    "UNITS = IN_SHAPE[0] * IN_SHAPE[1]\n",
    "print(UNITS)"
   ]
  },
  {
   "cell_type": "code",
   "execution_count": 96,
   "id": "5e0e57c3-8df2-4071-804e-e1ff230ac070",
   "metadata": {},
   "outputs": [],
   "source": [
    "model = tf.keras.models.Sequential([\n",
    "    tf.keras.layers.Flatten(\n",
    "        input_shape=IN_SHAPE\n",
    "    ),\n",
    "    tf.keras.layers.Dense(\n",
    "        units=UNITS,\n",
    "        activation=\"relu\",\n",
    "        use_bias=True,\n",
    "        kernel_initializer=\"glorot_uniform\",\n",
    "        bias_initializer=\"zeros\",\n",
    "        kernel_regularizer=None,\n",
    "        bias_regularizer=None,\n",
    "        activity_regularizer=None,\n",
    "        kernel_constraint=None,\n",
    "        bias_constraint=None\n",
    "    ),\n",
    "    tf.keras.layers.Dense(\n",
    "        units=UNITS/2,\n",
    "        activation=\"relu\",\n",
    "        use_bias=True,\n",
    "        kernel_initializer=\"glorot_uniform\",\n",
    "        bias_initializer=\"zeros\",\n",
    "        kernel_regularizer=None,\n",
    "        bias_regularizer=None,\n",
    "        activity_regularizer=None,\n",
    "        kernel_constraint=None,\n",
    "        bias_constraint=None\n",
    "    ),\n",
    "    tf.keras.layers.Dense(\n",
    "        units=UNITS/4,\n",
    "        activation=\"relu\",\n",
    "        use_bias=True,\n",
    "        kernel_initializer=\"glorot_uniform\",\n",
    "        bias_initializer=\"zeros\",\n",
    "        kernel_regularizer=None,\n",
    "        bias_regularizer=None,\n",
    "        activity_regularizer=None,\n",
    "        kernel_constraint=None,\n",
    "        bias_constraint=None\n",
    "    ),\n",
    "    tf.keras.layers.Dense(\n",
    "        units=UNITS/8,\n",
    "        activation=\"relu\",\n",
    "        use_bias=True,\n",
    "        kernel_initializer=\"glorot_uniform\",\n",
    "        bias_initializer=\"zeros\",\n",
    "        kernel_regularizer=None,\n",
    "        bias_regularizer=None,\n",
    "        activity_regularizer=None,\n",
    "        kernel_constraint=None,\n",
    "        bias_constraint=None\n",
    "    ),\n",
    "    tf.keras.layers.Dense(\n",
    "        units=UNITS/16,\n",
    "        activation=\"relu\",\n",
    "        use_bias=True,\n",
    "        kernel_initializer=\"glorot_uniform\",\n",
    "        bias_initializer=\"zeros\",\n",
    "        kernel_regularizer=None,\n",
    "        bias_regularizer=None,\n",
    "        activity_regularizer=None,\n",
    "        kernel_constraint=None,\n",
    "        bias_constraint=None\n",
    "    ),\n",
    "    # tf.keras.layers.Dropout(0.2),\n",
    "    tf.keras.layers.Dense(\n",
    "        units=OUT_SHAPE\n",
    "    )\n",
    "])\n",
    "\n"
   ]
  },
  {
   "attachments": {},
   "cell_type": "markdown",
   "id": "ea2f00d4-28c6-47a1-8523-63c5b9f4ce0e",
   "metadata": {},
   "source": [
    "### Tasks\n",
    "* Update model input tensor shape, with the shape of the dataset input vectors.\n",
    "* Choose and set activation function for hidden layers and explain why you chose that option, update the model with that activation function.\n",
    "* Would you add bias to the layers? Explain why or why not, and add bias to all layers if you answered yes.\n",
    "* Update number of nodes in each layer to match the following rule:\n",
    "    - First hidden layer, should be the same number of nodes as the input layer flattenized. Hint: nodes = h x w\n",
    "    - Each layer should be 1/2x of the previous layer nodes (x = previous layer nodes). This exception is for the output layer that will be added in the next step.\n",
    "* Add an output layer:\n",
    "    - How many nodes will have the output layer based on the dataset? Specify the number of nodes in the output layer in the model.\n",
    "    - Which activation function would you use for the output layer, explain why, and add it to the model.\n",
    "* Train the model using the training set\n",
    "* Evaluate the model accuracy\n",
    "    - What does the loss mean? What is the loss for the model?\n",
    "    - What does accuracy mean? What is the accuracy of the model?\n",
    "* Why would you add dropout layers to the model?\n",
    "* Add a dropout layer previous the output layer with 20% dropout, compare the 2 models loss and accuracy. Which one was better?"
   ]
  },
  {
   "attachments": {},
   "cell_type": "markdown",
   "id": "503bf725",
   "metadata": {},
   "source": [
    "I chose the ReLU activation function because it prevents the vanishing gradient problem and usually performs better than other functions."
   ]
  },
  {
   "attachments": {},
   "cell_type": "markdown",
   "id": "511d5e37",
   "metadata": {},
   "source": [
    "Yes, I would add bias to all the layers. In Tensorflow it is the default value due to the fact that it helps the network get better results. A good analogy would be the y-intercept in a linear function (y=mx+b)."
   ]
  },
  {
   "attachments": {},
   "cell_type": "markdown",
   "id": "e05be1a4",
   "metadata": {},
   "source": [
    "The output layer should have 10 nodes to represent every posible value in the dependent variable (0-9).\n",
    "<br>\n",
    "The output layer doesn't necessarily needs an activation function. However, the results should be passed to a softmax function to generate probabilities in a multi-class clasification problem."
   ]
  },
  {
   "attachments": {},
   "cell_type": "markdown",
   "id": "7333c784",
   "metadata": {},
   "source": [
    "Loss is the difference between the actually true values to the predicted ones by the model.\n",
    "<br>\n",
    "Accuracy is the percentage of the total predictions that the model predicted correctly."
   ]
  },
  {
   "attachments": {},
   "cell_type": "markdown",
   "id": "45e8808c",
   "metadata": {},
   "source": [
    "Dropout layers are a powerful tool to prevent overfitting in a model."
   ]
  },
  {
   "cell_type": "markdown",
   "id": "7b234b63-277e-432a-b4a0-e482b71d3846",
   "metadata": {
    "tags": []
   },
   "source": [
    "# 2. Model compilation\n",
    "\n",
    "### Tasks\n",
    "- Explain which loss metric would you use for this dataset where you expect to classify inputs.\n",
    "- Compile the model with that loss metric.\n",
    "\n",
    "# 3. Model evaluation\n",
    "\n",
    "### Tasks\n",
    "- Evaluate the model loss and accuracy.\n",
    "- Build confussion matrix for the model that has the dropout layer, and explain the confusion matrix relevant metrics."
   ]
  },
  {
   "attachments": {},
   "cell_type": "markdown",
   "id": "aabeca59",
   "metadata": {},
   "source": [
    "Tensorflow recommends a SparseCategoricalCrossentropy loss function for multi-class classification problems, so that would be a good starting point and what I chose to add to this network."
   ]
  },
  {
   "cell_type": "code",
   "execution_count": 97,
   "id": "c743a2af-7b0e-4248-9844-c09f29407db2",
   "metadata": {},
   "outputs": [],
   "source": [
    "model.compile(\n",
    "    optimizer='adam',\n",
    "    loss=tf.keras.losses.SparseCategoricalCrossentropy(from_logits=True),\n",
    "    metrics=['accuracy']\n",
    ")"
   ]
  },
  {
   "attachments": {},
   "cell_type": "markdown",
   "id": "42d2218a",
   "metadata": {},
   "source": [
    "### Without dropout"
   ]
  },
  {
   "cell_type": "code",
   "execution_count": 98,
   "id": "286ce736",
   "metadata": {},
   "outputs": [
    {
     "name": "stdout",
     "output_type": "stream",
     "text": [
      "Epoch 1/10\n",
      "   1/1875 [..............................] - ETA: 11:42 - loss: 2.3026 - accuracy: 0.0625"
     ]
    },
    {
     "name": "stderr",
     "output_type": "stream",
     "text": [
      "2023-02-03 18:29:48.127216: I tensorflow/core/grappler/optimizers/custom_graph_optimizer_registry.cc:113] Plugin optimizer for device_type GPU is enabled.\n"
     ]
    },
    {
     "name": "stdout",
     "output_type": "stream",
     "text": [
      "1875/1875 [==============================] - 13s 7ms/step - loss: 0.6037 - accuracy: 0.8015\n",
      "Epoch 2/10\n",
      "1875/1875 [==============================] - 13s 7ms/step - loss: 0.2229 - accuracy: 0.9330\n",
      "Epoch 3/10\n",
      "1875/1875 [==============================] - 12s 7ms/step - loss: 0.1545 - accuracy: 0.9530\n",
      "Epoch 4/10\n",
      "1875/1875 [==============================] - 12s 7ms/step - loss: 0.1210 - accuracy: 0.9633\n",
      "Epoch 5/10\n",
      "1875/1875 [==============================] - 12s 7ms/step - loss: 0.1025 - accuracy: 0.9687\n",
      "Epoch 6/10\n",
      "1875/1875 [==============================] - 12s 6ms/step - loss: 0.0889 - accuracy: 0.9726\n",
      "Epoch 7/10\n",
      "1875/1875 [==============================] - 12s 7ms/step - loss: 0.0786 - accuracy: 0.9759\n",
      "Epoch 8/10\n",
      "1875/1875 [==============================] - 13s 7ms/step - loss: 0.0711 - accuracy: 0.9783\n",
      "Epoch 9/10\n",
      "1875/1875 [==============================] - 13s 7ms/step - loss: 0.0623 - accuracy: 0.9811\n",
      "Epoch 10/10\n",
      "1875/1875 [==============================] - 13s 7ms/step - loss: 0.0565 - accuracy: 0.9826\n"
     ]
    },
    {
     "data": {
      "text/plain": [
       "<keras.callbacks.History at 0x2e526f7f0>"
      ]
     },
     "execution_count": 98,
     "metadata": {},
     "output_type": "execute_result"
    }
   ],
   "source": [
    "# Fit the model with the train set, use 10 epochs\n",
    "\n",
    "model.fit(x_train, y_train, epochs=10)"
   ]
  },
  {
   "cell_type": "code",
   "execution_count": 99,
   "id": "43d7191b",
   "metadata": {},
   "outputs": [
    {
     "name": "stderr",
     "output_type": "stream",
     "text": [
      "2023-02-03 18:31:54.259569: I tensorflow/core/grappler/optimizers/custom_graph_optimizer_registry.cc:113] Plugin optimizer for device_type GPU is enabled.\n"
     ]
    },
    {
     "name": "stdout",
     "output_type": "stream",
     "text": [
      "313/313 - 1s - loss: 26994.0586 - accuracy: 0.8742 - 1s/epoch - 4ms/step\n"
     ]
    },
    {
     "data": {
      "text/plain": [
       "[26994.05859375, 0.8742000460624695]"
      ]
     },
     "execution_count": 99,
     "metadata": {},
     "output_type": "execute_result"
    }
   ],
   "source": [
    "model.evaluate(x_test, y_test, verbose=2)"
   ]
  },
  {
   "attachments": {},
   "cell_type": "markdown",
   "id": "60ec7c7d",
   "metadata": {},
   "source": [
    "### With dropout"
   ]
  },
  {
   "cell_type": "code",
   "execution_count": 55,
   "id": "80f30379-893e-4ddf-9359-3865a400a8ce",
   "metadata": {},
   "outputs": [
    {
     "name": "stdout",
     "output_type": "stream",
     "text": [
      "Epoch 1/10\n",
      "   8/1875 [..............................] - ETA: 14s - loss: 2.3035 - accuracy: 0.0977  "
     ]
    },
    {
     "name": "stderr",
     "output_type": "stream",
     "text": [
      "2023-02-03 17:54:13.958986: I tensorflow/core/grappler/optimizers/custom_graph_optimizer_registry.cc:113] Plugin optimizer for device_type GPU is enabled.\n"
     ]
    },
    {
     "name": "stdout",
     "output_type": "stream",
     "text": [
      "1875/1875 [==============================] - 14s 7ms/step - loss: 0.7144 - accuracy: 0.7538\n",
      "Epoch 2/10\n",
      "1875/1875 [==============================] - 13s 7ms/step - loss: 0.2460 - accuracy: 0.9302\n",
      "Epoch 3/10\n",
      "1875/1875 [==============================] - 13s 7ms/step - loss: 0.1693 - accuracy: 0.9508\n",
      "Epoch 4/10\n",
      "1875/1875 [==============================] - 13s 7ms/step - loss: 0.1341 - accuracy: 0.9615\n",
      "Epoch 5/10\n",
      "1875/1875 [==============================] - 13s 7ms/step - loss: 0.1119 - accuracy: 0.9679\n",
      "Epoch 6/10\n",
      "1875/1875 [==============================] - 13s 7ms/step - loss: 0.0956 - accuracy: 0.9724\n",
      "Epoch 7/10\n",
      "1875/1875 [==============================] - 13s 7ms/step - loss: 0.0842 - accuracy: 0.9757\n",
      "Epoch 8/10\n",
      "1875/1875 [==============================] - 13s 7ms/step - loss: 0.0765 - accuracy: 0.9774\n",
      "Epoch 9/10\n",
      "1875/1875 [==============================] - 15s 8ms/step - loss: 0.0674 - accuracy: 0.9798\n",
      "Epoch 10/10\n",
      "1875/1875 [==============================] - 14s 7ms/step - loss: 0.0606 - accuracy: 0.9821\n"
     ]
    },
    {
     "data": {
      "text/plain": [
       "<keras.callbacks.History at 0x2d1e9b970>"
      ]
     },
     "execution_count": 55,
     "metadata": {},
     "output_type": "execute_result"
    }
   ],
   "source": [
    "model.fit(x_train, y_train, epochs=10)"
   ]
  },
  {
   "cell_type": "code",
   "execution_count": 56,
   "id": "585d2cf9-59b0-48f9-bebf-b6e7e8631960",
   "metadata": {},
   "outputs": [
    {
     "name": "stderr",
     "output_type": "stream",
     "text": [
      "2023-02-03 17:56:26.298686: I tensorflow/core/grappler/optimizers/custom_graph_optimizer_registry.cc:113] Plugin optimizer for device_type GPU is enabled.\n"
     ]
    },
    {
     "name": "stdout",
     "output_type": "stream",
     "text": [
      "313/313 - 1s - loss: 14758.2148 - accuracy: 0.9218 - 1s/epoch - 5ms/step\n"
     ]
    },
    {
     "data": {
      "text/plain": [
       "[14758.21484375, 0.9218000173568726]"
      ]
     },
     "execution_count": 56,
     "metadata": {},
     "output_type": "execute_result"
    }
   ],
   "source": [
    "# Evaluate the model with verbose=2 to know loss and accuracy metrics for the test set\n",
    "model.evaluate(x_test, y_test, verbose=2)"
   ]
  },
  {
   "attachments": {},
   "cell_type": "markdown",
   "id": "6eee0cfd",
   "metadata": {},
   "source": [
    "The model with dropout performed better than the one without it."
   ]
  },
  {
   "cell_type": "code",
   "execution_count": 59,
   "id": "aff55d08",
   "metadata": {},
   "outputs": [
    {
     "name": "stdout",
     "output_type": "stream",
     "text": [
      "313/313 [==============================] - 1s 2ms/step\n"
     ]
    }
   ],
   "source": [
    "y_true = y_test\n",
    "\n",
    "y_pred = model.predict(x_test)\n",
    "y_pred = tf.keras.layers.Softmax()(y_pred)\n",
    "y_pred = tf.argmax(y_pred, axis=1)"
   ]
  },
  {
   "cell_type": "code",
   "execution_count": 70,
   "id": "61e75499",
   "metadata": {},
   "outputs": [
    {
     "data": {
      "text/plain": [
       "array([7, 2, 1, ..., 4, 5, 6])"
      ]
     },
     "execution_count": 70,
     "metadata": {},
     "output_type": "execute_result"
    }
   ],
   "source": [
    "y_pred.numpy()"
   ]
  },
  {
   "cell_type": "code",
   "execution_count": 74,
   "id": "e5687db9",
   "metadata": {},
   "outputs": [
    {
     "data": {
      "text/plain": [
       "<tf.Tensor: shape=(10, 10), dtype=int32, numpy=\n",
       "array([[ 968,    0,    0,    1,    0,    4,    4,    3,    0,    0],\n",
       "       [   0, 1130,    0,    2,    0,    1,    2,    0,    0,    0],\n",
       "       [   8,    6,  981,   16,    1,    2,    5,   13,    0,    0],\n",
       "       [   0,    0,    1,  996,    0,    7,    0,    5,    0,    1],\n",
       "       [   2,   11,    1,    0,  935,    0,   11,   17,    0,    5],\n",
       "       [   2,    1,    0,   18,    1,  860,    4,    3,    2,    1],\n",
       "       [   7,    4,    1,    0,    4,    9,  932,    1,    0,    0],\n",
       "       [   0,   10,    3,    5,    0,    0,    0, 1007,    0,    3],\n",
       "       [   4,  103,   45,  203,    5,   33,    9,   40,  522,   10],\n",
       "       [   4,   11,    0,   19,    7,    3,    2,   76,    0,  887]],\n",
       "      dtype=int32)>"
      ]
     },
     "execution_count": 74,
     "metadata": {},
     "output_type": "execute_result"
    }
   ],
   "source": [
    "confusion_matrix = tf.math.confusion_matrix(labels=y_true, predictions=y_pred)\n",
    "confusion_matrix"
   ]
  },
  {
   "cell_type": "code",
   "execution_count": 77,
   "id": "9abb7b4a",
   "metadata": {},
   "outputs": [
    {
     "name": "stdout",
     "output_type": "stream",
     "text": [
      "              precision    recall  f1-score   support\n",
      "\n",
      "           0       0.97      0.99      0.98       980\n",
      "           1       0.89      1.00      0.94      1135\n",
      "           2       0.95      0.95      0.95      1032\n",
      "           3       0.79      0.99      0.88      1010\n",
      "           4       0.98      0.95      0.97       982\n",
      "           5       0.94      0.96      0.95       892\n",
      "           6       0.96      0.97      0.97       958\n",
      "           7       0.86      0.98      0.92      1028\n",
      "           8       1.00      0.54      0.70       974\n",
      "           9       0.98      0.88      0.93      1009\n",
      "\n",
      "    accuracy                           0.92     10000\n",
      "   macro avg       0.93      0.92      0.92     10000\n",
      "weighted avg       0.93      0.92      0.92     10000\n",
      "\n"
     ]
    }
   ],
   "source": [
    "print(classification_report(y_true, y_pred))"
   ]
  },
  {
   "cell_type": "markdown",
   "id": "17812bf6-e87f-4a5e-8091-dd11c4089e93",
   "metadata": {},
   "source": [
    "# 4. Analysis"
   ]
  },
  {
   "cell_type": "markdown",
   "id": "9fb13e6d-0ac9-49ef-a109-3c89ad1968db",
   "metadata": {},
   "source": [
    "### Tasks\n",
    "- What is the category that gets classified incorrectly the most\n",
    "    - what would you do to solve this issue?\n",
    "* Get the first 10 elements of the dependent variable test set. Suppose these values are the only ones that we would like to classify.\n",
    "    - Considering our Neural Network architecture, how many nodes would the output layer have if we train with this scenario?\n",
    "    - Considering our Neural Network architecture, if we increase the input tensor shape to 45x45, how many nodes would each hidden layer have?"
   ]
  },
  {
   "attachments": {},
   "cell_type": "markdown",
   "id": "1f3670f0",
   "metadata": {},
   "source": [
    "* The caterogy that gets misclassified the most is class 3 with 0.79 precision.\n",
    "    - (1) We could adjust the loss function to penalize wrong classifications of this class or (2) we could add more observations of this class via oversampling to provide more data to the model to learn to classify this observation."
   ]
  },
  {
   "cell_type": "code",
   "execution_count": 85,
   "id": "79a86044",
   "metadata": {},
   "outputs": [
    {
     "name": "stdout",
     "output_type": "stream",
     "text": [
      "[0 1 2 3 4 5 9]\n",
      "7\n"
     ]
    }
   ],
   "source": [
    "unique_vals = np.unique(y_train[:10])\n",
    "print(unique_vals)\n",
    "print(unique_vals.size)"
   ]
  },
  {
   "attachments": {},
   "cell_type": "markdown",
   "id": "40200654",
   "metadata": {},
   "source": [
    "If we only took the first 10 values then there would only be 7 output layer nodes as shown above. The number of nodes per dense layer are shown below."
   ]
  },
  {
   "cell_type": "code",
   "execution_count": 94,
   "id": "4fdac9a6",
   "metadata": {},
   "outputs": [
    {
     "name": "stdout",
     "output_type": "stream",
     "text": [
      "Dense layer 1 nodes: 2025\n",
      "Dense layer 2 nodes: 1012\n",
      "Dense layer 3 nodes: 506\n",
      "Dense layer 4 nodes: 253\n",
      "Dense layer 5 nodes: 126\n"
     ]
    }
   ],
   "source": [
    "NEW_UNITS = 45*45\n",
    "print(\"Dense layer 1 nodes:\", NEW_UNITS)\n",
    "print(\"Dense layer 2 nodes:\", NEW_UNITS//2)\n",
    "print(\"Dense layer 3 nodes:\", NEW_UNITS//4)\n",
    "print(\"Dense layer 4 nodes:\", NEW_UNITS//8)\n",
    "print(\"Dense layer 5 nodes:\", NEW_UNITS//16)"
   ]
  },
  {
   "cell_type": "markdown",
   "id": "13d463e0-d331-4045-8097-44e8f05ecb3a",
   "metadata": {},
   "source": [
    "# On completion\n",
    "\n",
    "Push this notebook to your personal repository and share the repository URL via email. Best of the luck."
   ]
  },
  {
   "cell_type": "code",
   "execution_count": null,
   "id": "985ea4d7-7155-4a5b-92e4-ce7b9c6d2004",
   "metadata": {},
   "outputs": [],
   "source": []
  }
 ],
 "metadata": {
  "kernelspec": {
   "display_name": "venv",
   "language": "python",
   "name": "python3"
  },
  "language_info": {
   "codemirror_mode": {
    "name": "ipython",
    "version": 3
   },
   "file_extension": ".py",
   "mimetype": "text/x-python",
   "name": "python",
   "nbconvert_exporter": "python",
   "pygments_lexer": "ipython3",
   "version": "3.10.8"
  },
  "vscode": {
   "interpreter": {
    "hash": "1b111032543051f0feb6ce42bf91f2b569fc2eed5ba8658885471e4e28cec92a"
   }
  }
 },
 "nbformat": 4,
 "nbformat_minor": 5
}
